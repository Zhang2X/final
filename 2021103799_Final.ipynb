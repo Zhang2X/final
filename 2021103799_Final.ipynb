{
 "cells": [
  {
   "cell_type": "markdown",
   "id": "329ac72d",
   "metadata": {},
   "source": [
    "**Final codes**\n",
    "\n",
    "2021103799 章程程"
   ]
  },
  {
   "cell_type": "markdown",
   "id": "979c6fe2",
   "metadata": {},
   "source": [
    "**读取数据**\n",
    "\n",
    "加载包并读取数据，查看数据结构"
   ]
  },
  {
   "cell_type": "code",
   "execution_count": 31,
   "id": "bd4a6159",
   "metadata": {},
   "outputs": [],
   "source": [
    "import numpy as np\n",
    "import pandas as pd\n",
    "import matplotlib.pyplot as plt #导入matplotlib.pyplot画图模块并命名为plt\n",
    "import seaborn as sns    #导入seaborn画图模块并命名为sns\n",
    "sns.set_theme(style='ticks')  #设置绘图风格为ticks\n",
    "plt.rcParams['font.sans-serif'] = ['SimHei']  # 用来正常显示中文标签\n",
    "plt.rcParams['axes.unicode_minus'] = False  # 用来正常显示负号"
   ]
  },
  {
   "cell_type": "code",
   "execution_count": 24,
   "id": "3b298d15",
   "metadata": {},
   "outputs": [],
   "source": [
    "dt = pd.read_excel('foods.xlsx',sheet_name=0)"
   ]
  },
  {
   "cell_type": "code",
   "execution_count": 25,
   "id": "8e320d25",
   "metadata": {},
   "outputs": [
    {
     "data": {
      "text/plain": [
       "Index(['证券代码', '证券简称', '企业规模', '员工总数', '省份', '参考总市值', '主营产品名称', '主营产品类型',\n",
       "       '总资产净利率-不含少数股东损益 %', '净资产收益率%', '销售净利率 %', '营业利润/营业总收入 %', '流动比率',\n",
       "       '速动比率', '现金比率', '净利润(同比增长率) %', '净资产(同比增长率) %', '总资产(同比增长率)%',\n",
       "       '基本每股收益(同比增长率) %', '存货周转率 ', '流动资产周转率', '总资产周转率', '应付账款周转率', '上市板'],\n",
       "      dtype='object')"
      ]
     },
     "execution_count": 25,
     "metadata": {},
     "output_type": "execute_result"
    }
   ],
   "source": [
    "dt.columns"
   ]
  },
  {
   "cell_type": "markdown",
   "id": "b9e8e4a4",
   "metadata": {},
   "source": [
    "**定义类及捕获异常**\n",
    "\n",
    "定义类进行缺失值判断,如果有类出现缺失值，就说明需要进行后续缺失值插补"
   ]
  },
  {
   "cell_type": "code",
   "execution_count": 33,
   "id": "258125ca",
   "metadata": {},
   "outputs": [],
   "source": [
    "class DtPreprocess:\n",
    "    def __init__(self,x):\n",
    "        self.dt = x\n",
    "    def get_nan(self):\n",
    "        y = pd.DataFrame(self.dt)\n",
    "        for i in y.columns:\n",
    "            if y[i].isnull().any():\n",
    "                print('该列出现缺失值：'+i)\n",
    "                raise Exception('出现缺失值')"
   ]
  },
  {
   "cell_type": "code",
   "execution_count": 34,
   "id": "a598b3d8",
   "metadata": {},
   "outputs": [],
   "source": [
    "dt1 = DtPreprocess(dt)"
   ]
  },
  {
   "cell_type": "code",
   "execution_count": 35,
   "id": "1eb47dc8",
   "metadata": {},
   "outputs": [
    {
     "name": "stdout",
     "output_type": "stream",
     "text": [
      "该列出现缺失值：应付账款周转率\n"
     ]
    },
    {
     "ename": "Exception",
     "evalue": "出现缺失值",
     "output_type": "error",
     "traceback": [
      "\u001b[1;31m---------------------------------------------------------------------------\u001b[0m",
      "\u001b[1;31mException\u001b[0m                                 Traceback (most recent call last)",
      "\u001b[1;32m<ipython-input-35-b7ae8eaac7ab>\u001b[0m in \u001b[0;36m<module>\u001b[1;34m\u001b[0m\n\u001b[1;32m----> 1\u001b[1;33m \u001b[0mdt1\u001b[0m\u001b[1;33m.\u001b[0m\u001b[0mget_nan\u001b[0m\u001b[1;33m(\u001b[0m\u001b[1;33m)\u001b[0m\u001b[1;33m\u001b[0m\u001b[1;33m\u001b[0m\u001b[0m\n\u001b[0m",
      "\u001b[1;32m<ipython-input-33-f8f23bb7eb16>\u001b[0m in \u001b[0;36mget_nan\u001b[1;34m(self)\u001b[0m\n\u001b[0;32m      7\u001b[0m             \u001b[1;32mif\u001b[0m \u001b[0my\u001b[0m\u001b[1;33m[\u001b[0m\u001b[0mi\u001b[0m\u001b[1;33m]\u001b[0m\u001b[1;33m.\u001b[0m\u001b[0misnull\u001b[0m\u001b[1;33m(\u001b[0m\u001b[1;33m)\u001b[0m\u001b[1;33m.\u001b[0m\u001b[0many\u001b[0m\u001b[1;33m(\u001b[0m\u001b[1;33m)\u001b[0m\u001b[1;33m:\u001b[0m\u001b[1;33m\u001b[0m\u001b[1;33m\u001b[0m\u001b[0m\n\u001b[0;32m      8\u001b[0m                 \u001b[0mprint\u001b[0m\u001b[1;33m(\u001b[0m\u001b[1;34m'该列出现缺失值：'\u001b[0m\u001b[1;33m+\u001b[0m\u001b[0mi\u001b[0m\u001b[1;33m)\u001b[0m\u001b[1;33m\u001b[0m\u001b[1;33m\u001b[0m\u001b[0m\n\u001b[1;32m----> 9\u001b[1;33m                 \u001b[1;32mraise\u001b[0m \u001b[0mException\u001b[0m\u001b[1;33m(\u001b[0m\u001b[1;34m'出现缺失值'\u001b[0m\u001b[1;33m)\u001b[0m\u001b[1;33m\u001b[0m\u001b[1;33m\u001b[0m\u001b[0m\n\u001b[0m",
      "\u001b[1;31mException\u001b[0m: 出现缺失值"
     ]
    }
   ],
   "source": [
    "dt1.get_nan()"
   ]
  },
  {
   "cell_type": "markdown",
   "id": "028e2f07",
   "metadata": {},
   "source": [
    "**描述性统计**\n",
    "\n",
    "由于缺失值不影响描述性统计，因此我们直接先对原始数据进行描述"
   ]
  },
  {
   "cell_type": "code",
   "execution_count": 39,
   "id": "23b6227d",
   "metadata": {},
   "outputs": [
    {
     "data": {
      "text/html": [
       "\n",
       "<script>\n",
       "    require.config({\n",
       "        paths: {\n",
       "            'echarts':'https://assets.pyecharts.org/assets/echarts.min', 'china':'https://assets.pyecharts.org/assets/maps/china'\n",
       "        }\n",
       "    });\n",
       "</script>\n",
       "\n",
       "        <div id=\"a2188cd5721746c4a54f970291aa04a2\" style=\"width:900px; height:500px;\"></div>\n",
       "\n",
       "<script>\n",
       "        require(['echarts', 'china'], function(echarts) {\n",
       "                var chart_a2188cd5721746c4a54f970291aa04a2 = echarts.init(\n",
       "                    document.getElementById('a2188cd5721746c4a54f970291aa04a2'), 'white', {renderer: 'canvas'});\n",
       "                var option_a2188cd5721746c4a54f970291aa04a2 = {\n",
       "    \"animation\": true,\n",
       "    \"animationThreshold\": 2000,\n",
       "    \"animationDuration\": 1000,\n",
       "    \"animationEasing\": \"cubicOut\",\n",
       "    \"animationDelay\": 0,\n",
       "    \"animationDurationUpdate\": 300,\n",
       "    \"animationEasingUpdate\": \"cubicOut\",\n",
       "    \"animationDelayUpdate\": 0,\n",
       "    \"color\": [\n",
       "        \"#c23531\",\n",
       "        \"#2f4554\",\n",
       "        \"#61a0a8\",\n",
       "        \"#d48265\",\n",
       "        \"#749f83\",\n",
       "        \"#ca8622\",\n",
       "        \"#bda29a\",\n",
       "        \"#6e7074\",\n",
       "        \"#546570\",\n",
       "        \"#c4ccd3\",\n",
       "        \"#f05b72\",\n",
       "        \"#ef5b9c\",\n",
       "        \"#f47920\",\n",
       "        \"#905a3d\",\n",
       "        \"#fab27b\",\n",
       "        \"#2a5caa\",\n",
       "        \"#444693\",\n",
       "        \"#726930\",\n",
       "        \"#b2d235\",\n",
       "        \"#6d8346\",\n",
       "        \"#ac6767\",\n",
       "        \"#1d953f\",\n",
       "        \"#6950a1\",\n",
       "        \"#918597\"\n",
       "    ],\n",
       "    \"series\": [\n",
       "        {\n",
       "            \"type\": \"map\",\n",
       "            \"label\": {\n",
       "                \"show\": true,\n",
       "                \"position\": \"top\",\n",
       "                \"margin\": 8\n",
       "            },\n",
       "            \"mapType\": \"china\",\n",
       "            \"data\": [\n",
       "                {\n",
       "                    \"name\": \"\\u4e0a\\u6d77\",\n",
       "                    \"value\": 14\n",
       "                },\n",
       "                {\n",
       "                    \"name\": \"\\u4e91\\u5357\",\n",
       "                    \"value\": 1\n",
       "                },\n",
       "                {\n",
       "                    \"name\": \"\\u5185\\u8499\",\n",
       "                    \"value\": 1\n",
       "                },\n",
       "                {\n",
       "                    \"name\": \"\\u5317\\u4eac\",\n",
       "                    \"value\": 7\n",
       "                },\n",
       "                {\n",
       "                    \"name\": \"\\u5409\\u6797\",\n",
       "                    \"value\": 2\n",
       "                },\n",
       "                {\n",
       "                    \"name\": \"\\u56db\\u5ddd\",\n",
       "                    \"value\": 6\n",
       "                },\n",
       "                {\n",
       "                    \"name\": \"\\u5929\\u6d25\",\n",
       "                    \"value\": 1\n",
       "                },\n",
       "                {\n",
       "                    \"name\": \"\\u5b81\\u590f\",\n",
       "                    \"value\": 1\n",
       "                },\n",
       "                {\n",
       "                    \"name\": \"\\u5b89\\u5fbd\",\n",
       "                    \"value\": 8\n",
       "                },\n",
       "                {\n",
       "                    \"name\": \"\\u5c71\\u4e1c\",\n",
       "                    \"value\": 24\n",
       "                },\n",
       "                {\n",
       "                    \"name\": \"\\u5c71\\u897f\",\n",
       "                    \"value\": 1\n",
       "                },\n",
       "                {\n",
       "                    \"name\": \"\\u5e7f\\u4e1c\",\n",
       "                    \"value\": 20\n",
       "                },\n",
       "                {\n",
       "                    \"name\": \"\\u5e7f\\u897f\",\n",
       "                    \"value\": 4\n",
       "                },\n",
       "                {\n",
       "                    \"name\": \"\\u65b0\\u7586\",\n",
       "                    \"value\": 12\n",
       "                },\n",
       "                {\n",
       "                    \"name\": \"\\u6c5f\\u82cf\",\n",
       "                    \"value\": 9\n",
       "                },\n",
       "                {\n",
       "                    \"name\": \"\\u6c5f\\u897f\",\n",
       "                    \"value\": 3\n",
       "                },\n",
       "                {\n",
       "                    \"name\": \"\\u6cb3\\u5317\",\n",
       "                    \"value\": 4\n",
       "                },\n",
       "                {\n",
       "                    \"name\": \"\\u6cb3\\u5357\",\n",
       "                    \"value\": 9\n",
       "                },\n",
       "                {\n",
       "                    \"name\": \"\\u6d59\\u6c5f\",\n",
       "                    \"value\": 13\n",
       "                },\n",
       "                {\n",
       "                    \"name\": \"\\u6d77\\u5357\",\n",
       "                    \"value\": 6\n",
       "                },\n",
       "                {\n",
       "                    \"name\": \"\\u6e56\\u5317\",\n",
       "                    \"value\": 3\n",
       "                },\n",
       "                {\n",
       "                    \"name\": \"\\u6e56\\u5357\",\n",
       "                    \"value\": 15\n",
       "                },\n",
       "                {\n",
       "                    \"name\": \"\\u7518\\u8083\",\n",
       "                    \"value\": 8\n",
       "                },\n",
       "                {\n",
       "                    \"name\": \"\\u798f\\u5efa\",\n",
       "                    \"value\": 8\n",
       "                },\n",
       "                {\n",
       "                    \"name\": \"\\u897f\\u85cf\",\n",
       "                    \"value\": 2\n",
       "                },\n",
       "                {\n",
       "                    \"name\": \"\\u8d35\\u5dde\",\n",
       "                    \"value\": 1\n",
       "                },\n",
       "                {\n",
       "                    \"name\": \"\\u8fbd\\u5b81\",\n",
       "                    \"value\": 4\n",
       "                },\n",
       "                {\n",
       "                    \"name\": \"\\u91cd\\u5e86\",\n",
       "                    \"value\": 3\n",
       "                },\n",
       "                {\n",
       "                    \"name\": \"\\u9752\\u6d77\",\n",
       "                    \"value\": 1\n",
       "                },\n",
       "                {\n",
       "                    \"name\": \"\\u9ed1\\u9f99\\u6c5f\",\n",
       "                    \"value\": 3\n",
       "                }\n",
       "            ],\n",
       "            \"roam\": true,\n",
       "            \"aspectScale\": 0.75,\n",
       "            \"nameProperty\": \"name\",\n",
       "            \"selectedMode\": false,\n",
       "            \"zoom\": 1,\n",
       "            \"mapValueCalculation\": \"sum\",\n",
       "            \"showLegendSymbol\": true,\n",
       "            \"emphasis\": {}\n",
       "        }\n",
       "    ],\n",
       "    \"legend\": [\n",
       "        {\n",
       "            \"data\": [\n",
       "                \"\"\n",
       "            ],\n",
       "            \"selected\": {\n",
       "                \"\": true\n",
       "            },\n",
       "            \"show\": true,\n",
       "            \"padding\": 5,\n",
       "            \"itemGap\": 10,\n",
       "            \"itemWidth\": 25,\n",
       "            \"itemHeight\": 14\n",
       "        }\n",
       "    ],\n",
       "    \"tooltip\": {\n",
       "        \"show\": true,\n",
       "        \"trigger\": \"item\",\n",
       "        \"triggerOn\": \"mousemove|click\",\n",
       "        \"axisPointer\": {\n",
       "            \"type\": \"line\"\n",
       "        },\n",
       "        \"showContent\": true,\n",
       "        \"alwaysShowContent\": false,\n",
       "        \"showDelay\": 0,\n",
       "        \"hideDelay\": 100,\n",
       "        \"textStyle\": {\n",
       "            \"fontSize\": 14\n",
       "        },\n",
       "        \"borderWidth\": 0,\n",
       "        \"padding\": 5\n",
       "    },\n",
       "    \"title\": [\n",
       "        {\n",
       "            \"text\": \"\\u516c\\u53f8\\u6240\\u5728\\u5730\\u5206\\u5e03\",\n",
       "            \"padding\": 5,\n",
       "            \"itemGap\": 10\n",
       "        }\n",
       "    ],\n",
       "    \"visualMap\": {\n",
       "        \"show\": true,\n",
       "        \"type\": \"continuous\",\n",
       "        \"min\": 1,\n",
       "        \"max\": 25,\n",
       "        \"inRange\": {\n",
       "            \"color\": [\n",
       "                \"#E0ECF8\",\n",
       "                \"#045FB4\"\n",
       "            ]\n",
       "        },\n",
       "        \"calculable\": true,\n",
       "        \"inverse\": false,\n",
       "        \"splitNumber\": 5,\n",
       "        \"orient\": \"vertical\",\n",
       "        \"showLabel\": true,\n",
       "        \"itemWidth\": 20,\n",
       "        \"itemHeight\": 140,\n",
       "        \"borderWidth\": 0\n",
       "    }\n",
       "};\n",
       "                chart_a2188cd5721746c4a54f970291aa04a2.setOption(option_a2188cd5721746c4a54f970291aa04a2);\n",
       "        });\n",
       "    </script>\n"
      ],
      "text/plain": [
       "<pyecharts.render.display.HTML at 0x2227c085730>"
      ]
     },
     "execution_count": 39,
     "metadata": {},
     "output_type": "execute_result"
    }
   ],
   "source": [
    "#公司所在地分布图\n",
    "df_sf = dt[['证券代码','省份']].groupby('省份').count().reset_index()\n",
    "df_sf.省份.astype('str')\n",
    "\n",
    "from pyecharts.charts import Map\n",
    "from pyecharts import options as opts\n",
    "provinces = df_sf.省份.map(lambda x: x[0:2] if ((len(x) >4) or (len(x)==2)) else x[0:-1])  #去掉省、自治区等字，只保留简称\n",
    "provinces = provinces.values.tolist()\n",
    "value = df_sf.证券代码.values.tolist()\n",
    "\n",
    "# 绘制地图\n",
    "c = (Map()\n",
    "    .add(\"\", [list(z) for z in zip(provinces, value)],'china')\n",
    "    .set_global_opts(title_opts=opts.TitleOpts(title='公司所在地分布'),\n",
    "                     visualmap_opts=opts.VisualMapOpts(max_= 25,min_=1,\n",
    "                                                       range_color=[\"#E0ECF8\", \"#045FB4\"])))\n",
    "c.render_notebook()"
   ]
  },
  {
   "cell_type": "code",
   "execution_count": 38,
   "id": "7d7024d8",
   "metadata": {},
   "outputs": [
    {
     "data": {
      "text/plain": [
       "Text(0.5, 1.0, '员工数量分布')"
      ]
     },
     "execution_count": 38,
     "metadata": {},
     "output_type": "execute_result"
    },
    {
     "data": {
      "image/png": "[encoded data removed]",
      "text/plain": [
       "<Figure size 432x288 with 1 Axes>"
      ]
     },
     "metadata": {},
     "output_type": "display_data"
    }
   ],
   "source": [
    "#员工数\n",
    "sns.histplot(np.log(dt['员工总数']), color=\"#045FB4\")\n",
    "plt.xticks(ticks=np.log([100,1000,10000]),labels=['100','1000','10000'])\n",
    "plt.xlabel('员工数量(取对数)')\n",
    "plt.ylabel('公司数量')\n",
    "plt.title('员工数量分布')"
   ]
  },
  {
   "cell_type": "code",
   "execution_count": 34,
   "id": "ba4f5142",
   "metadata": {},
   "outputs": [
    {
     "data": {
      "text/plain": [
       "([<matplotlib.axis.XTick at 0x18573a788e0>,\n",
       "  <matplotlib.axis.XTick at 0x18573d8ed00>,\n",
       "  <matplotlib.axis.XTick at 0x18573b0b310>,\n",
       "  <matplotlib.axis.XTick at 0x18573d11df0>],\n",
       " [Text(2.302585092994046, 0, '十亿'),\n",
       "  Text(4.605170185988092, 0, '百亿'),\n",
       "  Text(6.907755278982137, 0, '千亿'),\n",
       "  Text(9.210340371976184, 0, '万亿')])"
      ]
     },
     "execution_count": 34,
     "metadata": {},
     "output_type": "execute_result"
    },
    {
     "data": {
      "image/png": "[encoded data removed]",
      "text/plain": [
       "<Figure size 432x288 with 1 Axes>"
      ]
     },
     "metadata": {},
     "output_type": "display_data"
    }
   ],
   "source": [
    "#公司市值\n",
    "dat_sz = dt.sort_values(by = '参考总市值')['参考总市值'][0:-1]\n",
    "\n",
    "plt.hist(np.log(dt['参考总市值']/100000000),bins=15,color=\"#045FB4\",alpha=0.7)  #以亿为单位44\n",
    "plt.xlabel('总市值(取对数)')\n",
    "plt.ylabel('公司数量')\n",
    "plt.xticks(ticks=np.log([10,100,1000,10000]),labels=['十亿','百亿','千亿','万亿'])"
   ]
  },
  {
   "cell_type": "code",
   "execution_count": 49,
   "id": "44209aac",
   "metadata": {},
   "outputs": [
    {
     "data": {
      "text/plain": [
       "Text(0.5, 1.0, '员工数量分布')"
      ]
     },
     "execution_count": 49,
     "metadata": {},
     "output_type": "execute_result"
    },
    {
     "data": {
      "image/png": "[encoded data removed]",
      "text/plain": [
       "<Figure size 432x288 with 1 Axes>"
      ]
     },
     "metadata": {},
     "output_type": "display_data"
    }
   ],
   "source": [
    "# 对员工数量分类后制作饼图\n",
    "dat_gm = pd.cut(dt['员工总数'],[0,500,1000,2000,5000,10000,121995]).value_counts(sort=False)\n",
    "labels = ['500人以内','500-1000人','1000-2000人','2000-5000人','5000-10000人','1万人以上']\n",
    "plt.pie(dat_gm.values, labels =labels,startangle=90, colors = sns.color_palette(\"Blues\", 6),autopct='%d%%')\n",
    "plt.title('员工数量分布')"
   ]
  },
  {
   "cell_type": "code",
   "execution_count": 50,
   "id": "00a1a9f0",
   "metadata": {},
   "outputs": [
    {
     "data": {
      "text/plain": [
       "Text(0.5, 1.0, '企业规模')"
      ]
     },
     "execution_count": 50,
     "metadata": {},
     "output_type": "execute_result"
    },
    {
     "data": {
      "image/png": "[encoded data removed]",
      "text/plain": [
       "<Figure size 432x288 with 1 Axes>"
      ]
     },
     "metadata": {},
     "output_type": "display_data"
    }
   ],
   "source": [
    "# 企业规模饼图\n",
    "gm = dt['企业规模'].value_counts(ascending=True)\n",
    "plt.pie(gm.values, labels =gm.keys(),startangle=90, colors = sns.color_palette(\"Blues\", 3),autopct='%d%%')\n",
    "plt.title('企业规模')"
   ]
  },
  {
   "cell_type": "markdown",
   "id": "e4883f1c",
   "metadata": {},
   "source": [
    "**处理异常**——插补缺失值\n",
    "\n",
    "在进行建模分析前，需要对缺失值进行处理。\n",
    "这里采用k近邻法插补缺失值"
   ]
  },
  {
   "cell_type": "code",
   "execution_count": 12,
   "id": "424e7092",
   "metadata": {},
   "outputs": [],
   "source": [
    "from sklearn.impute import KNNImputer"
   ]
  },
  {
   "cell_type": "code",
   "execution_count": 21,
   "id": "fd636ccf",
   "metadata": {},
   "outputs": [],
   "source": [
    "imputer = KNNImputer(n_neighbors=5)\n",
    "dt1=dt.iloc[:,8:23]\n",
    "dt1_k =  pd.DataFrame(imputer.fit_transform(dt1))"
   ]
  },
  {
   "cell_type": "code",
   "execution_count": 22,
   "id": "5a40df3a",
   "metadata": {},
   "outputs": [
    {
     "data": {
      "text/plain": [
       "pandas.core.frame.DataFrame"
      ]
     },
     "execution_count": 22,
     "metadata": {},
     "output_type": "execute_result"
    }
   ],
   "source": [
    "type(dt1_k)"
   ]
  },
  {
   "cell_type": "code",
   "execution_count": 23,
   "id": "b731cb56",
   "metadata": {},
   "outputs": [],
   "source": [
    "dt2 = dt.iloc[:,[1]]\n",
    "df_p = pd.concat([dt2,dt1_k],axis=1)"
   ]
  },
  {
   "cell_type": "markdown",
   "id": "7348895d",
   "metadata": {},
   "source": [
    "**因子分析**"
   ]
  },
  {
   "cell_type": "code",
   "execution_count": 24,
   "id": "d7625924",
   "metadata": {},
   "outputs": [],
   "source": [
    "#加载必要的包\n",
    "from scipy.stats import bartlett\n",
    "from factor_analyzer import *\n",
    "import numpy.linalg as nlg\n",
    "from sklearn.cluster import KMeans\n",
    "from matplotlib import cm"
   ]
  },
  {
   "cell_type": "markdown",
   "id": "ec63fc40",
   "metadata": {},
   "source": [
    "先进行相关性检验"
   ]
  },
  {
   "cell_type": "code",
   "execution_count": 25,
   "id": "59aff531",
   "metadata": {},
   "outputs": [
    {
     "data": {
      "text/plain": [
       "(2659.195024589433, 0.0)"
      ]
     },
     "execution_count": 25,
     "metadata": {},
     "output_type": "execute_result"
    }
   ],
   "source": [
    "#巴特雷特球度检验\n",
    "df_f = df_p.iloc[:,1:21]\n",
    "from factor_analyzer.factor_analyzer import calculate_bartlett_sphericity,calculate_kmo\n",
    "chi_square_value, p_value = calculate_bartlett_sphericity(df_f)\n",
    "chi_square_value,p_value"
   ]
  },
  {
   "cell_type": "code",
   "execution_count": 30,
   "id": "4ee0db82",
   "metadata": {},
   "outputs": [
    {
     "name": "stdout",
     "output_type": "stream",
     "text": [
      "0.6372868155261527\n"
     ]
    }
   ],
   "source": [
    "#KMO检验\n",
    "from factor_analyzer.factor_analyzer import calculate_kmo\n",
    "kmo_all, kmo_model = calculate_kmo(df_f)\n",
    "print(kmo_model)"
   ]
  },
  {
   "cell_type": "markdown",
   "id": "9e035bd4",
   "metadata": {},
   "source": [
    "通过碎石图寻找合适的因子数"
   ]
  },
  {
   "cell_type": "code",
   "execution_count": 26,
   "id": "76ca474b",
   "metadata": {},
   "outputs": [
    {
     "data": {
      "image/png": "[encoded data removed]",
      "text/plain": [
       "<Figure size 432x288 with 1 Axes>"
      ]
     },
     "metadata": {},
     "output_type": "display_data"
    }
   ],
   "source": [
    "fa = FactorAnalyzer(25,rotation=None)\n",
    "fa.fit(df_f)\n",
    "\n",
    "ev,v = fa.get_eigenvalues()\n",
    "\n",
    "\n",
    "# 可视化\n",
    "# plot横轴是指标个数，纵轴是ev值\n",
    "# scatter横轴是指标个数，纵轴是ev值\n",
    "\n",
    "plt.scatter(range(1,df_f.shape[1]+1),ev)\n",
    "plt.plot(range(1,df_f.shape[1]+1),ev)\n",
    "plt.title('Scree Plot')\n",
    "plt.xlabel('Factors')\n",
    "plt.ylabel('Eigenvalue')\n",
    "plt.grid()\n",
    "plt.show()"
   ]
  },
  {
   "cell_type": "markdown",
   "id": "462eeb38",
   "metadata": {},
   "source": [
    "根据特征根大于一原则，确定是五个因子"
   ]
  },
  {
   "cell_type": "code",
   "execution_count": 27,
   "id": "b66c9267",
   "metadata": {},
   "outputs": [
    {
     "data": {
      "text/plain": [
       "array([[ 0.13475752,  0.93605646,  0.07564799,  0.08310617,  0.18809244],\n",
       "       [-0.05003892,  0.75261596,  0.07779944, -0.07243974,  0.06803266],\n",
       "       [ 0.1480156 ,  0.93900986, -0.02989404,  0.06453452,  0.09552514],\n",
       "       [ 0.27612414,  0.50933658, -0.12070543,  0.27463169,  0.12823827],\n",
       "       [ 0.92435396,  0.10801538, -0.12932945, -0.00256972,  0.08254788],\n",
       "       [ 0.98465521,  0.10640975, -0.06159078,  0.00350873,  0.12584885],\n",
       "       [ 0.93648579,  0.11816336, -0.07739918,  0.02661889,  0.1805804 ],\n",
       "       [ 0.00479231,  0.0274997 , -0.02948542,  0.94588161,  0.00685334],\n",
       "       [ 0.20180827,  0.18859883,  0.02445336,  0.01606922,  0.80887262],\n",
       "       [ 0.1256356 ,  0.17821647,  0.07262657, -0.00924702,  0.92946124],\n",
       "       [ 0.00322909,  0.10415419, -0.01260379,  0.94331467, -0.00406061],\n",
       "       [ 0.07231756, -0.09470196,  0.51550468,  0.06683077,  0.1738434 ],\n",
       "       [-0.30258427,  0.0376046 ,  0.88500349, -0.02383389,  0.07426197],\n",
       "       [-0.18561416,  0.13984731,  0.88198979, -0.03595756,  0.05819379],\n",
       "       [ 0.01632723,  0.01067198,  0.4094396 , -0.05571624, -0.1245328 ]])"
      ]
     },
     "execution_count": 27,
     "metadata": {},
     "output_type": "execute_result"
    }
   ],
   "source": [
    "fa = FactorAnalyzer(5, rotation=\"varimax\")\n",
    "fa.fit(df_f)\n",
    "\n",
    "# # 15*5(变量个数*因子个数)\n",
    "fa.loadings_"
   ]
  },
  {
   "cell_type": "markdown",
   "id": "29f0bb54",
   "metadata": {},
   "source": [
    "因子分析结果可视化——热力图"
   ]
  },
  {
   "cell_type": "code",
   "execution_count": 35,
   "id": "e0e81534",
   "metadata": {
    "scrolled": true
   },
   "outputs": [
    {
     "data": {
      "text/plain": [
       "Text(86.5, 0.5, '变量')"
      ]
     },
     "execution_count": 35,
     "metadata": {},
     "output_type": "execute_result"
    },
    {
     "data": {
      "image/png": "[encoded data removed]",
      "text/plain": [
       "<Figure size 864x720 with 2 Axes>"
      ]
     },
     "metadata": {},
     "output_type": "display_data"
    }
   ],
   "source": [
    "import seaborn as sns\n",
    "df_cm = pd.DataFrame(np.abs(fa.loadings_),index=df_f.columns)\n",
    "\n",
    "fig,ax = plt.subplots(figsize=(12,10))\n",
    "sns.heatmap(df_cm,annot=True,cmap='BuPu',ax=ax)\n",
    "# 设置y轴字体的大小\n",
    "ax.tick_params(axis='x',labelsize=15)\n",
    "ax.set_title(\"Factor Analysis\",fontsize=12)\n",
    "ax.set_ylabel(\"变量\")"
   ]
  },
  {
   "cell_type": "markdown",
   "id": "54aa65a8",
   "metadata": {},
   "source": [
    "转换原始数据变量，计算各样本在各因子上的得分"
   ]
  },
  {
   "cell_type": "code",
   "execution_count": 42,
   "id": "02dd56e0",
   "metadata": {},
   "outputs": [],
   "source": [
    "df_c = pd.DataFrame(fa.transform(df_f))"
   ]
  },
  {
   "cell_type": "markdown",
   "id": "18eaff57",
   "metadata": {},
   "source": [
    "**聚类分析**"
   ]
  },
  {
   "cell_type": "code",
   "execution_count": 40,
   "id": "bbe2910b",
   "metadata": {},
   "outputs": [],
   "source": [
    "from scipy.cluster.hierarchy import linkage, dendrogram"
   ]
  },
  {
   "cell_type": "code",
   "execution_count": 45,
   "id": "0bf21330",
   "metadata": {},
   "outputs": [],
   "source": [
    "X = linkage(df_c, method='average', metric='euclidean')"
   ]
  },
  {
   "cell_type": "code",
   "execution_count": 46,
   "id": "8865efe4",
   "metadata": {},
   "outputs": [
    {
     "data": {
      "image/png": "[encoded data removed]",
      "text/plain": [
       "<Figure size 432x288 with 1 Axes>"
      ]
     },
     "metadata": {},
     "output_type": "display_data"
    }
   ],
   "source": [
    "dendrogram(X,leaf_rotation=0,leaf_font_size=10)\n",
    "plt.show()"
   ]
  },
  {
   "cell_type": "code",
   "execution_count": null,
   "id": "70c7c65f",
   "metadata": {},
   "outputs": [],
   "source": []
  }
 ],
 "metadata": {
  "kernelspec": {
   "display_name": "Python 3",
   "language": "python",
   "name": "python3"
  },
  "language_info": {
   "codemirror_mode": {
    "name": "ipython",
    "version": 3
   },
   "file_extension": ".py",
   "mimetype": "text/x-python",
   "name": "python",
   "nbconvert_exporter": "python",
   "pygments_lexer": "ipython3",
   "version": "3.8.8"
  }
 },
 "nbformat": 4,
 "nbformat_minor": 5
}
